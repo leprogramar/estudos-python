{
  "nbformat": 4,
  "nbformat_minor": 0,
  "metadata": {
    "colab": {
      "provenance": [],
      "authorship_tag": "ABX9TyNbd3g/HDt6v8vdDGzLUdwg",
      "include_colab_link": true
    },
    "kernelspec": {
      "name": "python3",
      "display_name": "Python 3"
    },
    "language_info": {
      "name": "python"
    }
  },
  "cells": [
    {
      "cell_type": "markdown",
      "metadata": {
        "id": "view-in-github",
        "colab_type": "text"
      },
      "source": [
        "<a href=\"https://colab.research.google.com/github/leprogramar/estudos-python/blob/main/estudos_pythion.ipynb\" target=\"_parent\"><img src=\"https://colab.research.google.com/assets/colab-badge.svg\" alt=\"Open In Colab\"/></a>"
      ]
    },
    {
      "cell_type": "code",
      "execution_count": null,
      "metadata": {
        "colab": {
          "base_uri": "https://localhost:8080/"
        },
        "id": "Js0GRZJQDNWj",
        "outputId": "6a966197-8b62-4fb5-b99c-3819be659f51"
      },
      "outputs": [
        {
          "output_type": "stream",
          "name": "stdout",
          "text": [
            "Olá mundo!\n"
          ]
        }
      ],
      "source": [
        "#aula 1\n",
        "#função print \n",
        "#print serve para mostrar algo na tela \n",
        "\n",
        "print(\"Olá mundo!\")\n",
        "\n",
        "#ela deve estar delimitada porpor parentese e com aspas- com excessao de numeros -> int e float, e variaveis"
      ]
    },
    {
      "cell_type": "code",
      "source": [
        "#aula 2 \n",
        "#funcao input \n",
        "#a função input serve para obter um dado do usuario \n",
        "\n",
        "nome = input(\"Qual seu nome?\")\n",
        "\n",
        "#tbm deve ser delimitada com parenteses e aspas-com excessao de numero -> int e float, e variaveis\n",
        "#é importante lembrar que um input retorna sempre uma STR. entao, se voce precisa de um int, vai ter que converter \n",
        "#type(nome)\n",
        "nome = int(input(\"Qual seu nome?\"))\n",
        "type(nome)"
      ],
      "metadata": {
        "colab": {
          "base_uri": "https://localhost:8080/"
        },
        "id": "enNOXS1_EeC9",
        "outputId": "2da924c0-c6be-48b6-8d70-d59f03424be8"
      },
      "execution_count": null,
      "outputs": [
        {
          "name": "stdout",
          "output_type": "stream",
          "text": [
            "Qual seu nome?8\n"
          ]
        },
        {
          "output_type": "execute_result",
          "data": {
            "text/plain": [
              "int"
            ]
          },
          "metadata": {},
          "execution_count": 8
        }
      ]
    },
    {
      "cell_type": "code",
      "source": [
        "#criar variáveis \n",
        "#para criar uma variavel, voce pode precisa usar o operador de operacao (=)\n",
        "#uma variavel tem q comecar com letra minuscurta e nao pode ter acento, ç, nem espaço\n",
        "#o valor da variavel fica em seguida\n",
        "\n",
        "nome = (\"leticia\")\n",
        "numero = 1\n",
        "cidade = (\"nova serrana \")\n",
        "cpf = (\"999 999 999 99\")\n"
      ],
      "metadata": {
        "id": "0s-E_GZpHQDX"
      },
      "execution_count": 4,
      "outputs": []
    },
    {
      "cell_type": "code",
      "source": [
        "#operadores matemáticos"
      ],
      "metadata": {
        "id": "GLdf-weVHTFx"
      },
      "execution_count": null,
      "outputs": []
    },
    {
      "cell_type": "code",
      "source": [
        "#operadores compostos"
      ],
      "metadata": {
        "id": "DVt1PC9-HdPU"
      },
      "execution_count": null,
      "outputs": []
    }
  ]
}